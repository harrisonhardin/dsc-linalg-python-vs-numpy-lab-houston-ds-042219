{
 "cells": [
  {
   "cell_type": "markdown",
   "metadata": {},
   "source": [
    "# Pure Python vs. Numpy - Lab\n",
    "\n",
    "## Introduction \n",
    "\n",
    "Numpy, Scipy and Pandas provide a significant increase in computational efficiency with complex mathematical operations as compared to Python's built in arithmetic functions. In this lab, you'll shall calculate and compare the processing speed required for calculating a dot product both using basic arithmetic operations in Python and Numpy's `.dot()` method. \n",
    "\n",
    "## Objectives\n",
    "You will be able to:\n",
    "* Compare the performance of high-dimensional matrix operations in Numpy vs. pure Python\n",
    "\n",
    "## Problem \n",
    "\n",
    "Write a routine to calculate the dot product between two $200 \\times 200$ dimensional matrices using:\n",
    "\n",
    "a) Pure Python (no libraries)\n",
    "\n",
    "b) Numpy's `.dot()`\n",
    "\n",
    "\n",
    "### Create two $200 \\times 200$ matrices in Python and fill them with random values using `np.random.rand()` "
   ]
  },
  {
   "cell_type": "code",
   "execution_count": 3,
   "metadata": {},
   "outputs": [],
   "source": [
    "# Compare 200x200 matrix-matrix multiplication speed\n",
    "import numpy as np\n",
    "\n",
    "# Set up the variables\n",
    "A = np.random.rand(200,200)\n",
    "B = np.random.rand(200,200)"
   ]
  },
  {
   "cell_type": "markdown",
   "metadata": {},
   "source": [
    "## Pure Python\n",
    "\n",
    "* Initialize a zeros-filled `numpy` matrix\n",
    "* In Python, calculate the dot product using the formula \n",
    "\n",
    "\n",
    "$$ \\large C_{i,j}= \\sum_k A_{i,k}B_{k,j}$$\n",
    "\n",
    "\n",
    "* Use Python's `timeit` library to calculate the processing time\n",
    "* [Visit this link](https://www.pythoncentral.io/time-a-python-function/) for an in-depth explanation on how to time a function or routine in python\n",
    "\n",
    "**Hint**: Use a nested for loop for accessing, calculating and storing each scalar value in the resulting matrix"
   ]
  },
  {
   "cell_type": "code",
   "execution_count": 5,
   "metadata": {},
   "outputs": [
    {
     "name": "stdout",
     "output_type": "stream",
     "text": [
      "Pure Python Time: 7.720695748925209 sec.\n"
     ]
    }
   ],
   "source": [
    "import timeit\n",
    "\n",
    "# Start the timer\n",
    "start = start = timeit.default_timer()\n",
    "\n",
    "# Matrix multiplication in pure Python\n",
    "out = np.zeros((200,200))\n",
    "for i in range(200):\n",
    "    for j in range(200):\n",
    "        for k in range(200):\n",
    "            out[i,k] += A[i,j]*B[j,k]\n",
    "time_spent = timeit.default_timer() - start\n",
    "\n",
    "\n",
    "print('Pure Python Time:', time_spent, 'sec.')"
   ]
  },
  {
   "cell_type": "markdown",
   "metadata": {},
   "source": [
    "## Numpy \n",
    "Set the timer and calculate the time taken by `.dot()` function for multiplying $A$ and $B$ \n"
   ]
  },
  {
   "cell_type": "code",
   "execution_count": 7,
   "metadata": {},
   "outputs": [
    {
     "name": "stdout",
     "output_type": "stream",
     "text": [
      "Numpy Time: 0.05616527982056141 sec.\n"
     ]
    },
    {
     "data": {
      "text/plain": [
       "array([[50.97741562, 52.5713329 , 49.0649666 , ..., 50.71521013,\n",
       "        48.79350939, 44.7174832 ],\n",
       "       [47.70821559, 50.35212637, 45.22259583, ..., 47.19106436,\n",
       "        50.21787723, 39.41903772],\n",
       "       [50.04691571, 53.6726015 , 51.3079067 , ..., 47.72868448,\n",
       "        52.22342265, 45.7093341 ],\n",
       "       ...,\n",
       "       [48.37525377, 50.03774593, 50.02815328, ..., 48.23136369,\n",
       "        47.24268518, 46.41262887],\n",
       "       [50.77356513, 53.47145143, 51.98490181, ..., 49.07039935,\n",
       "        49.9104401 , 45.46062284],\n",
       "       [49.26397803, 50.68872001, 49.19313076, ..., 45.5059351 ,\n",
       "        47.88331699, 45.00240675]])"
      ]
     },
     "execution_count": 7,
     "metadata": {},
     "output_type": "execute_result"
    }
   ],
   "source": [
    "# start the timer\n",
    "start = timeit.default_timer()\n",
    "\n",
    "# Matrix multiplication in numpy\n",
    "out1 = A.dot(B)\n",
    "\n",
    "time_spent = timeit.default_timer() - start\n",
    "print('Numpy Time:', time_spent, 'sec.')\n",
    "out1"
   ]
  },
  {
   "cell_type": "markdown",
   "metadata": {},
   "source": [
    "### Your comments \n",
    "\n",
    "\n",
    "```\n",
    "```\n",
    "\n",
    "## Summary\n",
    "\n",
    "In this lab, you performed a quick comparison between calculating a dot product in Numpy vs Python built in function. You saw that Numpy is computationally much more efficient that Python code because of the sophisticated implementation of Numpy source code. You're encouraged to always perform time tests to fully appreciate the use of an additional library in Python. "
   ]
  }
 ],
 "metadata": {
  "kernelspec": {
   "display_name": "Python 3",
   "language": "python",
   "name": "python3"
  },
  "language_info": {
   "codemirror_mode": {
    "name": "ipython",
    "version": 3
   },
   "file_extension": ".py",
   "mimetype": "text/x-python",
   "name": "python",
   "nbconvert_exporter": "python",
   "pygments_lexer": "ipython3",
   "version": "3.6.6"
  }
 },
 "nbformat": 4,
 "nbformat_minor": 2
}
